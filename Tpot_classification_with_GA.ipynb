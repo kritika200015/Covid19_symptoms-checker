{
  "nbformat": 4,
  "nbformat_minor": 0,
  "metadata": {
    "colab": {
      "name": "Tpot classification with GA.ipynb",
      "provenance": [],
      "authorship_tag": "ABX9TyPzIDT3/wWE4tSMi/ekllR7",
      "include_colab_link": true
    },
    "kernelspec": {
      "name": "python3",
      "display_name": "Python 3"
    },
    "language_info": {
      "name": "python"
    },
    "widgets": {
      "application/vnd.jupyter.widget-state+json": {
        "35937d77f6ee4b2ea3d34e8dc2ac40b2": {
          "model_module": "@jupyter-widgets/controls",
          "model_name": "HBoxModel",
          "state": {
            "_view_name": "HBoxView",
            "_dom_classes": [],
            "_model_name": "HBoxModel",
            "_view_module": "@jupyter-widgets/controls",
            "_model_module_version": "1.5.0",
            "_view_count": null,
            "_view_module_version": "1.5.0",
            "box_style": "",
            "layout": "IPY_MODEL_a0063996a8004471beafc8685b3b2429",
            "_model_module": "@jupyter-widgets/controls",
            "children": [
              "IPY_MODEL_4fd8d3db6d854a368972f950169cfb66",
              "IPY_MODEL_91b2ad1dddae4567b55b672ad92c5d61"
            ]
          }
        },
        "a0063996a8004471beafc8685b3b2429": {
          "model_module": "@jupyter-widgets/base",
          "model_name": "LayoutModel",
          "state": {
            "_view_name": "LayoutView",
            "grid_template_rows": null,
            "right": null,
            "justify_content": null,
            "_view_module": "@jupyter-widgets/base",
            "overflow": null,
            "_model_module_version": "1.2.0",
            "_view_count": null,
            "flex_flow": null,
            "width": null,
            "min_width": null,
            "border": null,
            "align_items": null,
            "bottom": null,
            "_model_module": "@jupyter-widgets/base",
            "top": null,
            "grid_column": null,
            "overflow_y": null,
            "overflow_x": null,
            "grid_auto_flow": null,
            "grid_area": null,
            "grid_template_columns": null,
            "flex": null,
            "_model_name": "LayoutModel",
            "justify_items": null,
            "grid_row": null,
            "max_height": null,
            "align_content": null,
            "visibility": null,
            "align_self": null,
            "height": null,
            "min_height": null,
            "padding": null,
            "grid_auto_rows": null,
            "grid_gap": null,
            "max_width": null,
            "order": null,
            "_view_module_version": "1.2.0",
            "grid_template_areas": null,
            "object_position": null,
            "object_fit": null,
            "grid_auto_columns": null,
            "margin": null,
            "display": null,
            "left": null
          }
        },
        "4fd8d3db6d854a368972f950169cfb66": {
          "model_module": "@jupyter-widgets/controls",
          "model_name": "FloatProgressModel",
          "state": {
            "_view_name": "ProgressView",
            "style": "IPY_MODEL_9165face70394959ab0b4bd9c219d075",
            "_dom_classes": [],
            "description": "Optimization Progress: ",
            "_model_name": "FloatProgressModel",
            "bar_style": "",
            "max": 300,
            "_view_module": "@jupyter-widgets/controls",
            "_model_module_version": "1.5.0",
            "value": 300,
            "_view_count": null,
            "_view_module_version": "1.5.0",
            "orientation": "horizontal",
            "min": 0,
            "description_tooltip": null,
            "_model_module": "@jupyter-widgets/controls",
            "layout": "IPY_MODEL_776016a9200a412186f161c4f01cdf5d"
          }
        },
        "91b2ad1dddae4567b55b672ad92c5d61": {
          "model_module": "@jupyter-widgets/controls",
          "model_name": "HTMLModel",
          "state": {
            "_view_name": "HTMLView",
            "style": "IPY_MODEL_adfb607da7d6440594350defaecd55d1",
            "_dom_classes": [],
            "description": "",
            "_model_name": "HTMLModel",
            "placeholder": "​",
            "_view_module": "@jupyter-widgets/controls",
            "_model_module_version": "1.5.0",
            "value": " 314/? [3:46:32&lt;00:00, 46.42s/pipeline]",
            "_view_count": null,
            "_view_module_version": "1.5.0",
            "description_tooltip": null,
            "_model_module": "@jupyter-widgets/controls",
            "layout": "IPY_MODEL_c86c345b84064ae89a8e7a751f16c301"
          }
        },
        "9165face70394959ab0b4bd9c219d075": {
          "model_module": "@jupyter-widgets/controls",
          "model_name": "ProgressStyleModel",
          "state": {
            "_view_name": "StyleView",
            "_model_name": "ProgressStyleModel",
            "description_width": "initial",
            "_view_module": "@jupyter-widgets/base",
            "_model_module_version": "1.5.0",
            "_view_count": null,
            "_view_module_version": "1.2.0",
            "bar_color": null,
            "_model_module": "@jupyter-widgets/controls"
          }
        },
        "776016a9200a412186f161c4f01cdf5d": {
          "model_module": "@jupyter-widgets/base",
          "model_name": "LayoutModel",
          "state": {
            "_view_name": "LayoutView",
            "grid_template_rows": null,
            "right": null,
            "justify_content": null,
            "_view_module": "@jupyter-widgets/base",
            "overflow": null,
            "_model_module_version": "1.2.0",
            "_view_count": null,
            "flex_flow": null,
            "width": null,
            "min_width": null,
            "border": null,
            "align_items": null,
            "bottom": null,
            "_model_module": "@jupyter-widgets/base",
            "top": null,
            "grid_column": null,
            "overflow_y": null,
            "overflow_x": null,
            "grid_auto_flow": null,
            "grid_area": null,
            "grid_template_columns": null,
            "flex": null,
            "_model_name": "LayoutModel",
            "justify_items": null,
            "grid_row": null,
            "max_height": null,
            "align_content": null,
            "visibility": null,
            "align_self": null,
            "height": null,
            "min_height": null,
            "padding": null,
            "grid_auto_rows": null,
            "grid_gap": null,
            "max_width": null,
            "order": null,
            "_view_module_version": "1.2.0",
            "grid_template_areas": null,
            "object_position": null,
            "object_fit": null,
            "grid_auto_columns": null,
            "margin": null,
            "display": null,
            "left": null
          }
        },
        "adfb607da7d6440594350defaecd55d1": {
          "model_module": "@jupyter-widgets/controls",
          "model_name": "DescriptionStyleModel",
          "state": {
            "_view_name": "StyleView",
            "_model_name": "DescriptionStyleModel",
            "description_width": "",
            "_view_module": "@jupyter-widgets/base",
            "_model_module_version": "1.5.0",
            "_view_count": null,
            "_view_module_version": "1.2.0",
            "_model_module": "@jupyter-widgets/controls"
          }
        },
        "c86c345b84064ae89a8e7a751f16c301": {
          "model_module": "@jupyter-widgets/base",
          "model_name": "LayoutModel",
          "state": {
            "_view_name": "LayoutView",
            "grid_template_rows": null,
            "right": null,
            "justify_content": null,
            "_view_module": "@jupyter-widgets/base",
            "overflow": null,
            "_model_module_version": "1.2.0",
            "_view_count": null,
            "flex_flow": null,
            "width": null,
            "min_width": null,
            "border": null,
            "align_items": null,
            "bottom": null,
            "_model_module": "@jupyter-widgets/base",
            "top": null,
            "grid_column": null,
            "overflow_y": null,
            "overflow_x": null,
            "grid_auto_flow": null,
            "grid_area": null,
            "grid_template_columns": null,
            "flex": null,
            "_model_name": "LayoutModel",
            "justify_items": null,
            "grid_row": null,
            "max_height": null,
            "align_content": null,
            "visibility": null,
            "align_self": null,
            "height": null,
            "min_height": null,
            "padding": null,
            "grid_auto_rows": null,
            "grid_gap": null,
            "max_width": null,
            "order": null,
            "_view_module_version": "1.2.0",
            "grid_template_areas": null,
            "object_position": null,
            "object_fit": null,
            "grid_auto_columns": null,
            "margin": null,
            "display": null,
            "left": null
          }
        }
      }
    }
  },
  "cells": [
    {
      "cell_type": "markdown",
      "metadata": {
        "id": "view-in-github",
        "colab_type": "text"
      },
      "source": [
        "<a href=\"https://colab.research.google.com/github/kritika200015/Covid19_symptoms-checker/blob/main/Tpot_classification_with_GA.ipynb\" target=\"_parent\"><img src=\"https://colab.research.google.com/assets/colab-badge.svg\" alt=\"Open In Colab\"/></a>"
      ]
    },
    {
      "cell_type": "markdown",
      "metadata": {
        "id": "GjvFGCRSECx8"
      },
      "source": [
        "Covid-19 symptoms checker (using genetic algorithm)"
      ]
    },
    {
      "cell_type": "markdown",
      "metadata": {
        "id": "Y0PyLKf6EJuV"
      },
      "source": [
        "Importing Lib and data"
      ]
    },
    {
      "cell_type": "code",
      "metadata": {
        "id": "z8TYPZPrvEFN"
      },
      "source": [
        "import numpy as np # linear algebra\n",
        "import pandas as pd\n",
        "df = pd.read_csv(\"Cleaned-Data.csv\")\n",
        "dataset = df.values"
      ],
      "execution_count": null,
      "outputs": []
    },
    {
      "cell_type": "code",
      "metadata": {
        "colab": {
          "base_uri": "https://localhost:8080/",
          "height": 258
        },
        "id": "G-dvg9To1PdO",
        "outputId": "f2d4c398-e1c6-4082-b43d-1872641b93cd"
      },
      "source": [
        "df.head()"
      ],
      "execution_count": null,
      "outputs": [
        {
          "output_type": "execute_result",
          "data": {
            "text/html": [
              "<div>\n",
              "<style scoped>\n",
              "    .dataframe tbody tr th:only-of-type {\n",
              "        vertical-align: middle;\n",
              "    }\n",
              "\n",
              "    .dataframe tbody tr th {\n",
              "        vertical-align: top;\n",
              "    }\n",
              "\n",
              "    .dataframe thead th {\n",
              "        text-align: right;\n",
              "    }\n",
              "</style>\n",
              "<table border=\"1\" class=\"dataframe\">\n",
              "  <thead>\n",
              "    <tr style=\"text-align: right;\">\n",
              "      <th></th>\n",
              "      <th>Fever</th>\n",
              "      <th>Tiredness</th>\n",
              "      <th>Dry-Cough</th>\n",
              "      <th>Difficulty-in-Breathing</th>\n",
              "      <th>Sore-Throat</th>\n",
              "      <th>None_Sympton</th>\n",
              "      <th>Pains</th>\n",
              "      <th>Nasal-Congestion</th>\n",
              "      <th>Runny-Nose</th>\n",
              "      <th>Diarrhea</th>\n",
              "      <th>None_Experiencing</th>\n",
              "      <th>Age_0-9</th>\n",
              "      <th>Age_10-19</th>\n",
              "      <th>Age_20-24</th>\n",
              "      <th>Age_25-59</th>\n",
              "      <th>Age_60+</th>\n",
              "      <th>Gender_Female</th>\n",
              "      <th>Gender_Male</th>\n",
              "      <th>Gender_Transgender</th>\n",
              "      <th>Severity_Mild</th>\n",
              "      <th>Severity_Moderate</th>\n",
              "      <th>Severity_None</th>\n",
              "      <th>Severity_Severe</th>\n",
              "      <th>Contact_Dont-Know</th>\n",
              "      <th>Contact_No</th>\n",
              "      <th>Contact_Yes</th>\n",
              "      <th>Country</th>\n",
              "    </tr>\n",
              "  </thead>\n",
              "  <tbody>\n",
              "    <tr>\n",
              "      <th>0</th>\n",
              "      <td>1</td>\n",
              "      <td>1</td>\n",
              "      <td>1</td>\n",
              "      <td>1</td>\n",
              "      <td>1</td>\n",
              "      <td>0</td>\n",
              "      <td>1</td>\n",
              "      <td>1</td>\n",
              "      <td>1</td>\n",
              "      <td>1</td>\n",
              "      <td>0</td>\n",
              "      <td>1</td>\n",
              "      <td>0</td>\n",
              "      <td>0</td>\n",
              "      <td>0</td>\n",
              "      <td>0</td>\n",
              "      <td>0</td>\n",
              "      <td>1</td>\n",
              "      <td>0</td>\n",
              "      <td>1</td>\n",
              "      <td>0</td>\n",
              "      <td>0</td>\n",
              "      <td>0</td>\n",
              "      <td>0</td>\n",
              "      <td>0</td>\n",
              "      <td>1</td>\n",
              "      <td>China</td>\n",
              "    </tr>\n",
              "    <tr>\n",
              "      <th>1</th>\n",
              "      <td>1</td>\n",
              "      <td>1</td>\n",
              "      <td>1</td>\n",
              "      <td>1</td>\n",
              "      <td>1</td>\n",
              "      <td>0</td>\n",
              "      <td>1</td>\n",
              "      <td>1</td>\n",
              "      <td>1</td>\n",
              "      <td>1</td>\n",
              "      <td>0</td>\n",
              "      <td>1</td>\n",
              "      <td>0</td>\n",
              "      <td>0</td>\n",
              "      <td>0</td>\n",
              "      <td>0</td>\n",
              "      <td>0</td>\n",
              "      <td>1</td>\n",
              "      <td>0</td>\n",
              "      <td>1</td>\n",
              "      <td>0</td>\n",
              "      <td>0</td>\n",
              "      <td>0</td>\n",
              "      <td>0</td>\n",
              "      <td>1</td>\n",
              "      <td>0</td>\n",
              "      <td>China</td>\n",
              "    </tr>\n",
              "    <tr>\n",
              "      <th>2</th>\n",
              "      <td>1</td>\n",
              "      <td>1</td>\n",
              "      <td>1</td>\n",
              "      <td>1</td>\n",
              "      <td>1</td>\n",
              "      <td>0</td>\n",
              "      <td>1</td>\n",
              "      <td>1</td>\n",
              "      <td>1</td>\n",
              "      <td>1</td>\n",
              "      <td>0</td>\n",
              "      <td>1</td>\n",
              "      <td>0</td>\n",
              "      <td>0</td>\n",
              "      <td>0</td>\n",
              "      <td>0</td>\n",
              "      <td>0</td>\n",
              "      <td>1</td>\n",
              "      <td>0</td>\n",
              "      <td>1</td>\n",
              "      <td>0</td>\n",
              "      <td>0</td>\n",
              "      <td>0</td>\n",
              "      <td>1</td>\n",
              "      <td>0</td>\n",
              "      <td>0</td>\n",
              "      <td>China</td>\n",
              "    </tr>\n",
              "    <tr>\n",
              "      <th>3</th>\n",
              "      <td>1</td>\n",
              "      <td>1</td>\n",
              "      <td>1</td>\n",
              "      <td>1</td>\n",
              "      <td>1</td>\n",
              "      <td>0</td>\n",
              "      <td>1</td>\n",
              "      <td>1</td>\n",
              "      <td>1</td>\n",
              "      <td>1</td>\n",
              "      <td>0</td>\n",
              "      <td>1</td>\n",
              "      <td>0</td>\n",
              "      <td>0</td>\n",
              "      <td>0</td>\n",
              "      <td>0</td>\n",
              "      <td>0</td>\n",
              "      <td>1</td>\n",
              "      <td>0</td>\n",
              "      <td>0</td>\n",
              "      <td>1</td>\n",
              "      <td>0</td>\n",
              "      <td>0</td>\n",
              "      <td>0</td>\n",
              "      <td>0</td>\n",
              "      <td>1</td>\n",
              "      <td>China</td>\n",
              "    </tr>\n",
              "    <tr>\n",
              "      <th>4</th>\n",
              "      <td>1</td>\n",
              "      <td>1</td>\n",
              "      <td>1</td>\n",
              "      <td>1</td>\n",
              "      <td>1</td>\n",
              "      <td>0</td>\n",
              "      <td>1</td>\n",
              "      <td>1</td>\n",
              "      <td>1</td>\n",
              "      <td>1</td>\n",
              "      <td>0</td>\n",
              "      <td>1</td>\n",
              "      <td>0</td>\n",
              "      <td>0</td>\n",
              "      <td>0</td>\n",
              "      <td>0</td>\n",
              "      <td>0</td>\n",
              "      <td>1</td>\n",
              "      <td>0</td>\n",
              "      <td>0</td>\n",
              "      <td>1</td>\n",
              "      <td>0</td>\n",
              "      <td>0</td>\n",
              "      <td>0</td>\n",
              "      <td>1</td>\n",
              "      <td>0</td>\n",
              "      <td>China</td>\n",
              "    </tr>\n",
              "  </tbody>\n",
              "</table>\n",
              "</div>"
            ],
            "text/plain": [
              "   Fever  Tiredness  Dry-Cough  ...  Contact_No  Contact_Yes  Country\n",
              "0      1          1          1  ...           0            1    China\n",
              "1      1          1          1  ...           1            0    China\n",
              "2      1          1          1  ...           0            0    China\n",
              "3      1          1          1  ...           0            1    China\n",
              "4      1          1          1  ...           1            0    China\n",
              "\n",
              "[5 rows x 27 columns]"
            ]
          },
          "metadata": {
            "tags": []
          },
          "execution_count": 3
        }
      ]
    },
    {
      "cell_type": "markdown",
      "metadata": {
        "id": "SsDCU8q7EO22"
      },
      "source": [
        "Preprocessing"
      ]
    },
    {
      "cell_type": "code",
      "metadata": {
        "id": "RgarqoU4vjrK"
      },
      "source": [
        "severity_columns = df.filter(like='Severity_').columns\n",
        "df['Severity_None'].replace({1:'None',0:'No'},inplace =True)\n",
        "df['Severity_Mild'].replace({1:'Mild',0:'No'},inplace =True)\n",
        "df['Severity_Moderate'].replace({1:'Moderate',0:'No'},inplace =True)\n",
        "df['Severity_Severe'].replace({1:'Severe',0:'No'},inplace =True)"
      ],
      "execution_count": null,
      "outputs": []
    },
    {
      "cell_type": "code",
      "metadata": {
        "id": "3WXcZBRxvjn3"
      },
      "source": [
        "df['Condition']=df[severity_columns].values.tolist()"
      ],
      "execution_count": null,
      "outputs": []
    },
    {
      "cell_type": "code",
      "metadata": {
        "id": "mXwn3n1LvjlT"
      },
      "source": [
        "def removing(list1):\n",
        "    list1 = set(list1) \n",
        "    list1.discard(\"No\")\n",
        "    a = ''.join(list1)\n",
        "    return a"
      ],
      "execution_count": null,
      "outputs": []
    },
    {
      "cell_type": "code",
      "metadata": {
        "id": "mrpx4sH1vjhP"
      },
      "source": [
        "df['Condition'] = df['Condition'].apply(removing)"
      ],
      "execution_count": null,
      "outputs": []
    },
    {
      "cell_type": "code",
      "metadata": {
        "id": "TIF1Zjewvjf3"
      },
      "source": [
        "age_columns = df.filter(like='Age_').columns\n",
        "gender_columns = df.filter(like='Gender_').columns\n",
        "contact_columns = df.filter(like='Contact_').columns"
      ],
      "execution_count": null,
      "outputs": []
    },
    {
      "cell_type": "code",
      "metadata": {
        "id": "urwq9dwUvjb2"
      },
      "source": [
        "No_risk_age = df.groupby(['Severity_None'])[age_columns].sum()\n",
        "No_risk_gender = df.groupby(['Severity_None'])[gender_columns].sum()\n",
        "No_risk_contact = df.groupby(['Severity_None'])[contact_columns].sum()"
      ],
      "execution_count": null,
      "outputs": []
    },
    {
      "cell_type": "code",
      "metadata": {
        "id": "PP4hUNSBvjaM"
      },
      "source": [
        "Low_risk_age = df.groupby(['Severity_Mild'])[age_columns].sum()\n",
        "Low_risk_gender = df.groupby(['Severity_Mild'])[gender_columns].sum()\n",
        "Low_risk_contact = df.groupby(['Severity_Mild'])[contact_columns].sum()"
      ],
      "execution_count": null,
      "outputs": []
    },
    {
      "cell_type": "code",
      "metadata": {
        "id": "VznorwuU1wGn"
      },
      "source": [
        "Moderate_risk_age = df.groupby(['Severity_Moderate'])[age_columns].sum()\n",
        "Moderate_risk_gender = df.groupby(['Severity_Moderate'])[gender_columns].sum()\n",
        "Moderate_risk_contact = df.groupby(['Severity_Moderate'])[contact_columns].sum()"
      ],
      "execution_count": null,
      "outputs": []
    },
    {
      "cell_type": "code",
      "metadata": {
        "id": "1TBpOwMA1wDz"
      },
      "source": [
        "Severe_risk_age = df.groupby(['Severity_Severe'])[age_columns].sum()\n",
        "Severe_risk_gender = df.groupby(['Severity_Severe'])[gender_columns].sum()\n",
        "Severe_risk_contact = df.groupby(['Severity_Severe'])[contact_columns].sum()"
      ],
      "execution_count": null,
      "outputs": []
    },
    {
      "cell_type": "code",
      "metadata": {
        "id": "vERMs61712wG"
      },
      "source": [
        "df.drop(\"Country\",axis=1,inplace=True)\n",
        "df.drop(severity_columns,axis=1,inplace=True)\n",
        "df['Symptoms_Score'] = df.iloc[:,:5].sum(axis=1) + df.iloc[:,6:10].sum(axis=1)"
      ],
      "execution_count": null,
      "outputs": []
    },
    {
      "cell_type": "code",
      "metadata": {
        "id": "UzUOxx_k18lj"
      },
      "source": [
        "df['Condition'].replace({'Mild':1,'None':0,'Moderate':1,'Severe':1},inplace =True)"
      ],
      "execution_count": null,
      "outputs": []
    },
    {
      "cell_type": "code",
      "metadata": {
        "colab": {
          "base_uri": "https://localhost:8080/"
        },
        "id": "dlwsjL-l195J",
        "outputId": "db94ca16-755a-48ea-bcb2-1a491f3c4cf4"
      },
      "source": [
        "for i in df.columns:\n",
        "    print(\"\\nColumn Name:\",i,\"-->\",df[i].unique(),\"-->Unique Count\",len(df[i].unique()))"
      ],
      "execution_count": null,
      "outputs": [
        {
          "output_type": "stream",
          "text": [
            "\n",
            "Column Name: Fever --> [1 0] -->Unique Count 2\n",
            "\n",
            "Column Name: Tiredness --> [1 0] -->Unique Count 2\n",
            "\n",
            "Column Name: Dry-Cough --> [1 0] -->Unique Count 2\n",
            "\n",
            "Column Name: Difficulty-in-Breathing --> [1 0] -->Unique Count 2\n",
            "\n",
            "Column Name: Sore-Throat --> [1 0] -->Unique Count 2\n",
            "\n",
            "Column Name: None_Sympton --> [0 1] -->Unique Count 2\n",
            "\n",
            "Column Name: Pains --> [1 0] -->Unique Count 2\n",
            "\n",
            "Column Name: Nasal-Congestion --> [1 0] -->Unique Count 2\n",
            "\n",
            "Column Name: Runny-Nose --> [1 0] -->Unique Count 2\n",
            "\n",
            "Column Name: Diarrhea --> [1 0] -->Unique Count 2\n",
            "\n",
            "Column Name: None_Experiencing --> [0 1] -->Unique Count 2\n",
            "\n",
            "Column Name: Age_0-9 --> [1 0] -->Unique Count 2\n",
            "\n",
            "Column Name: Age_10-19 --> [0 1] -->Unique Count 2\n",
            "\n",
            "Column Name: Age_20-24 --> [0 1] -->Unique Count 2\n",
            "\n",
            "Column Name: Age_25-59 --> [0 1] -->Unique Count 2\n",
            "\n",
            "Column Name: Age_60+ --> [0 1] -->Unique Count 2\n",
            "\n",
            "Column Name: Gender_Female --> [0 1] -->Unique Count 2\n",
            "\n",
            "Column Name: Gender_Male --> [1 0] -->Unique Count 2\n",
            "\n",
            "Column Name: Gender_Transgender --> [0 1] -->Unique Count 2\n",
            "\n",
            "Column Name: Contact_Dont-Know --> [0 1] -->Unique Count 2\n",
            "\n",
            "Column Name: Contact_No --> [0 1] -->Unique Count 2\n",
            "\n",
            "Column Name: Contact_Yes --> [1 0] -->Unique Count 2\n",
            "\n",
            "Column Name: Condition --> [1 0] -->Unique Count 2\n",
            "\n",
            "Column Name: Symptoms_Score --> [9 8 7 6 5 4 3 2 1 0] -->Unique Count 10\n"
          ],
          "name": "stdout"
        }
      ]
    },
    {
      "cell_type": "code",
      "metadata": {
        "id": "ijDV_YSR23KJ"
      },
      "source": [
        "import tensorflow"
      ],
      "execution_count": null,
      "outputs": []
    },
    {
      "cell_type": "markdown",
      "metadata": {
        "id": "xnLKnIS_ET8f"
      },
      "source": [
        "Downcasting "
      ]
    },
    {
      "cell_type": "code",
      "metadata": {
        "id": "NeFPhdANopNj"
      },
      "source": [
        "def reduce_mem_usage(props):\n",
        "    start_mem_usg = props.memory_usage().sum() / 1024**2 \n",
        "    print(\"Memory usage of properties dataframe is :\",start_mem_usg,\" MB\")\n",
        "    NAlist = [] # Keeps track of columns that have missing values filled in. \n",
        "    for col in props.columns:\n",
        "        if props[col].dtype != object:  # Exclude strings\n",
        "            \n",
        "            # Print current column type\n",
        "            print(\"******************************\")\n",
        "            print(\"Column: \",col)\n",
        "            print(\"dtype before: \",props[col].dtype)\n",
        "            \n",
        "            # make variables for Int, max and min\n",
        "            IsInt = False\n",
        "            mx = props[col].max()\n",
        "            mn = props[col].min()\n",
        "            \n",
        "            # Integer does not support NA, therefore, NA needs to be filled\n",
        "            if not np.isfinite(props[col]).all(): \n",
        "                NAlist.append(col)\n",
        "                props[col].fillna(mn-1,inplace=True)  \n",
        "                   \n",
        "            # test if column can be converted to an integer\n",
        "            asint = props[col].fillna(0).astype(np.int64)\n",
        "            result = (props[col] - asint)\n",
        "            result = result.sum()\n",
        "            if result > -0.01 and result < 0.01:\n",
        "                IsInt = True\n",
        "            if IsInt:\n",
        "                if mn >= 0:\n",
        "                    if mx < 255:\n",
        "                        props[col] = props[col].astype(np.uint8)\n",
        "                    elif mx < 65535:\n",
        "                        props[col] = props[col].astype(np.uint16)\n",
        "                    elif mx < 4294967295:\n",
        "                        props[col] = props[col].astype(np.uint32)\n",
        "                    else:\n",
        "                        props[col] = props[col].astype(np.uint64)\n",
        "                else:\n",
        "                    if mn > np.iinfo(np.int8).min and mx < np.iinfo(np.int8).max:\n",
        "                        props[col] = props[col].astype(np.int8)\n",
        "                    elif mn > np.iinfo(np.int16).min and mx < np.iinfo(np.int16).max:\n",
        "                      props[col] = props[col].astype(np.int16)\n",
        "                    elif mn > np.iinfo(np.int32).min and mx < np.iinfo(np.int32).max:\n",
        "                        props[col] = props[col].astype(np.int32)\n",
        "                    elif mn > np.iinfo(np.int64).min and mx < np.iinfo(np.int64).max:\n",
        "                        props[col] = props[col].astype(np.int64)    \n",
        "            \n",
        "            # Make float datatypes 32 bit\n",
        "            else:\n",
        "                props[col] = props[col].astype(np.float32)\n",
        "            \n",
        "            # Print new column type\n",
        "            print(\"dtype after: \",props[col].dtype)\n",
        "            print(\"******************************\")\n",
        "            print(\"___MEMORY USAGE AFTER COMPLETION:___\")\n",
        "    mem_usg = props.memory_usage().sum() / 1024**2 \n",
        "    print(\"Memory usage is: \",mem_usg,\" MB\")\n",
        "    print(\"This is \",100*mem_usg/start_mem_usg,\"% of the initial size\")\n",
        "    return props, NAlist\n"
      ],
      "execution_count": null,
      "outputs": []
    },
    {
      "cell_type": "code",
      "metadata": {
        "colab": {
          "base_uri": "https://localhost:8080/"
        },
        "id": "pyyFmFqEpKWn",
        "outputId": "444d5611-3f4e-4d32-c1f8-89251484efcc"
      },
      "source": [
        "df, NAlist = reduce_mem_usage(df)\n",
        "print(\"_________________\")\n",
        "print(\"\")\n",
        "print(\"Warning: the following columns have missing values filled with 'df['column_name'].min() -1': \")\n",
        "print(\"_________________\")\n",
        "print(\"\")\n",
        "print(NAlist)"
      ],
      "execution_count": null,
      "outputs": [
        {
          "output_type": "stream",
          "text": [
            "Memory usage of properties dataframe is : 58.0079345703125  MB\n",
            "******************************\n",
            "Column:  Fever\n",
            "dtype before:  int64\n",
            "dtype after:  uint8\n",
            "******************************\n",
            "___MEMORY USAGE AFTER COMPLETION:___\n",
            "******************************\n",
            "Column:  Tiredness\n",
            "dtype before:  int64\n",
            "dtype after:  uint8\n",
            "******************************\n",
            "___MEMORY USAGE AFTER COMPLETION:___\n",
            "******************************\n",
            "Column:  Dry-Cough\n",
            "dtype before:  int64\n",
            "dtype after:  uint8\n",
            "******************************\n",
            "___MEMORY USAGE AFTER COMPLETION:___\n",
            "******************************\n",
            "Column:  Difficulty-in-Breathing\n",
            "dtype before:  int64\n",
            "dtype after:  uint8\n",
            "******************************\n",
            "___MEMORY USAGE AFTER COMPLETION:___\n",
            "******************************\n",
            "Column:  Sore-Throat\n",
            "dtype before:  int64\n",
            "dtype after:  uint8\n",
            "******************************\n",
            "___MEMORY USAGE AFTER COMPLETION:___\n",
            "******************************\n",
            "Column:  None_Sympton\n",
            "dtype before:  int64\n",
            "dtype after:  uint8\n",
            "******************************\n",
            "___MEMORY USAGE AFTER COMPLETION:___\n",
            "******************************\n",
            "Column:  Pains\n",
            "dtype before:  int64\n",
            "dtype after:  uint8\n",
            "******************************\n",
            "___MEMORY USAGE AFTER COMPLETION:___\n",
            "******************************\n",
            "Column:  Nasal-Congestion\n",
            "dtype before:  int64\n",
            "dtype after:  uint8\n",
            "******************************\n",
            "___MEMORY USAGE AFTER COMPLETION:___\n",
            "******************************\n",
            "Column:  Runny-Nose\n",
            "dtype before:  int64\n",
            "dtype after:  uint8\n",
            "******************************\n",
            "___MEMORY USAGE AFTER COMPLETION:___\n",
            "******************************\n",
            "Column:  Diarrhea\n",
            "dtype before:  int64\n",
            "dtype after:  uint8\n",
            "******************************\n",
            "___MEMORY USAGE AFTER COMPLETION:___\n",
            "******************************\n",
            "Column:  None_Experiencing\n",
            "dtype before:  int64\n",
            "dtype after:  uint8\n",
            "******************************\n",
            "___MEMORY USAGE AFTER COMPLETION:___\n",
            "******************************\n",
            "Column:  Age_0-9\n",
            "dtype before:  int64\n",
            "dtype after:  uint8\n",
            "******************************\n",
            "___MEMORY USAGE AFTER COMPLETION:___\n",
            "******************************\n",
            "Column:  Age_10-19\n",
            "dtype before:  int64\n",
            "dtype after:  uint8\n",
            "******************************\n",
            "___MEMORY USAGE AFTER COMPLETION:___\n",
            "******************************\n",
            "Column:  Age_20-24\n",
            "dtype before:  int64\n",
            "dtype after:  uint8\n",
            "******************************\n",
            "___MEMORY USAGE AFTER COMPLETION:___\n",
            "******************************\n",
            "Column:  Age_25-59\n",
            "dtype before:  int64\n",
            "dtype after:  uint8\n",
            "******************************\n",
            "___MEMORY USAGE AFTER COMPLETION:___\n",
            "******************************\n",
            "Column:  Age_60+\n",
            "dtype before:  int64\n",
            "dtype after:  uint8\n",
            "******************************\n",
            "___MEMORY USAGE AFTER COMPLETION:___\n",
            "******************************\n",
            "Column:  Gender_Female\n",
            "dtype before:  int64\n",
            "dtype after:  uint8\n",
            "******************************\n",
            "___MEMORY USAGE AFTER COMPLETION:___\n",
            "******************************\n",
            "Column:  Gender_Male\n",
            "dtype before:  int64\n",
            "dtype after:  uint8\n",
            "******************************\n",
            "___MEMORY USAGE AFTER COMPLETION:___\n",
            "******************************\n",
            "Column:  Gender_Transgender\n",
            "dtype before:  int64\n",
            "dtype after:  uint8\n",
            "******************************\n",
            "___MEMORY USAGE AFTER COMPLETION:___\n",
            "******************************\n",
            "Column:  Contact_Dont-Know\n",
            "dtype before:  int64\n",
            "dtype after:  uint8\n",
            "******************************\n",
            "___MEMORY USAGE AFTER COMPLETION:___\n",
            "******************************\n",
            "Column:  Contact_No\n",
            "dtype before:  int64\n",
            "dtype after:  uint8\n",
            "******************************\n",
            "___MEMORY USAGE AFTER COMPLETION:___\n",
            "******************************\n",
            "Column:  Contact_Yes\n",
            "dtype before:  int64\n",
            "dtype after:  uint8\n",
            "******************************\n",
            "___MEMORY USAGE AFTER COMPLETION:___\n",
            "******************************\n",
            "Column:  Condition\n",
            "dtype before:  int64\n",
            "dtype after:  uint8\n",
            "******************************\n",
            "___MEMORY USAGE AFTER COMPLETION:___\n",
            "******************************\n",
            "Column:  Symptoms_Score\n",
            "dtype before:  int64\n",
            "dtype after:  uint8\n",
            "******************************\n",
            "___MEMORY USAGE AFTER COMPLETION:___\n",
            "Memory usage is:  7.2510986328125  MB\n",
            "This is  12.50018413260915 % of the initial size\n",
            "_________________\n",
            "\n",
            "Warning: the following columns have missing values filled with 'df['column_name'].min() -1': \n",
            "_________________\n",
            "\n",
            "[]\n"
          ],
          "name": "stdout"
        }
      ]
    },
    {
      "cell_type": "code",
      "metadata": {
        "colab": {
          "base_uri": "https://localhost:8080/"
        },
        "id": "e9G6-dqO3t6B",
        "outputId": "1024f670-cc34-466d-c105-ee0e4fb2672c"
      },
      "source": [
        "!pip install tpot"
      ],
      "execution_count": null,
      "outputs": [
        {
          "output_type": "stream",
          "text": [
            "Collecting tpot\n",
            "\u001b[?25l  Downloading https://files.pythonhosted.org/packages/b2/55/a7185198f554ea19758e5ac4641f100c94cba4585e738e2e48e3c40a0b7f/TPOT-0.11.7-py3-none-any.whl (87kB)\n",
            "\u001b[K     |████████████████████████████████| 92kB 7.9MB/s \n",
            "\u001b[?25hCollecting deap>=1.2\n",
            "\u001b[?25l  Downloading https://files.pythonhosted.org/packages/99/d1/803c7a387d8a7e6866160b1541307f88d534da4291572fb32f69d2548afb/deap-1.3.1-cp37-cp37m-manylinux2010_x86_64.whl (157kB)\n",
            "\u001b[K     |████████████████████████████████| 163kB 42.2MB/s \n",
            "\u001b[?25hRequirement already satisfied: numpy>=1.16.3 in /usr/local/lib/python3.7/dist-packages (from tpot) (1.19.5)\n",
            "Requirement already satisfied: pandas>=0.24.2 in /usr/local/lib/python3.7/dist-packages (from tpot) (1.1.5)\n",
            "Collecting stopit>=1.1.1\n",
            "  Downloading https://files.pythonhosted.org/packages/35/58/e8bb0b0fb05baf07bbac1450c447d753da65f9701f551dca79823ce15d50/stopit-1.1.2.tar.gz\n",
            "Requirement already satisfied: joblib>=0.13.2 in /usr/local/lib/python3.7/dist-packages (from tpot) (1.0.1)\n",
            "Requirement already satisfied: scikit-learn>=0.22.0 in /usr/local/lib/python3.7/dist-packages (from tpot) (0.22.2.post1)\n",
            "Collecting update-checker>=0.16\n",
            "  Downloading https://files.pythonhosted.org/packages/0c/ba/8dd7fa5f0b1c6a8ac62f8f57f7e794160c1f86f31c6d0fb00f582372a3e4/update_checker-0.18.0-py3-none-any.whl\n",
            "Requirement already satisfied: scipy>=1.3.1 in /usr/local/lib/python3.7/dist-packages (from tpot) (1.4.1)\n",
            "Requirement already satisfied: tqdm>=4.36.1 in /usr/local/lib/python3.7/dist-packages (from tpot) (4.41.1)\n",
            "Collecting xgboost>=1.1.0\n",
            "\u001b[?25l  Downloading https://files.pythonhosted.org/packages/bb/35/169eec194bf1f9ef52ed670f5032ef2abaf6ed285cfadcb4b6026b800fc9/xgboost-1.4.2-py3-none-manylinux2010_x86_64.whl (166.7MB)\n",
            "\u001b[K     |████████████████████████████████| 166.7MB 83kB/s \n",
            "\u001b[?25hRequirement already satisfied: python-dateutil>=2.7.3 in /usr/local/lib/python3.7/dist-packages (from pandas>=0.24.2->tpot) (2.8.1)\n",
            "Requirement already satisfied: pytz>=2017.2 in /usr/local/lib/python3.7/dist-packages (from pandas>=0.24.2->tpot) (2018.9)\n",
            "Requirement already satisfied: requests>=2.3.0 in /usr/local/lib/python3.7/dist-packages (from update-checker>=0.16->tpot) (2.23.0)\n",
            "Requirement already satisfied: six>=1.5 in /usr/local/lib/python3.7/dist-packages (from python-dateutil>=2.7.3->pandas>=0.24.2->tpot) (1.15.0)\n",
            "Requirement already satisfied: urllib3!=1.25.0,!=1.25.1,<1.26,>=1.21.1 in /usr/local/lib/python3.7/dist-packages (from requests>=2.3.0->update-checker>=0.16->tpot) (1.24.3)\n",
            "Requirement already satisfied: idna<3,>=2.5 in /usr/local/lib/python3.7/dist-packages (from requests>=2.3.0->update-checker>=0.16->tpot) (2.10)\n",
            "Requirement already satisfied: certifi>=2017.4.17 in /usr/local/lib/python3.7/dist-packages (from requests>=2.3.0->update-checker>=0.16->tpot) (2020.12.5)\n",
            "Requirement already satisfied: chardet<4,>=3.0.2 in /usr/local/lib/python3.7/dist-packages (from requests>=2.3.0->update-checker>=0.16->tpot) (3.0.4)\n",
            "Building wheels for collected packages: stopit\n",
            "  Building wheel for stopit (setup.py) ... \u001b[?25l\u001b[?25hdone\n",
            "  Created wheel for stopit: filename=stopit-1.1.2-cp37-none-any.whl size=11954 sha256=24c0398ad91361a02a8f938e0954b182ee947a7e12195d9a8f66dc116643f275\n",
            "  Stored in directory: /root/.cache/pip/wheels/3c/85/2b/2580190404636bfc63e8de3dff629c03bb795021e1983a6cc7\n",
            "Successfully built stopit\n",
            "Installing collected packages: deap, stopit, update-checker, xgboost, tpot\n",
            "  Found existing installation: xgboost 0.90\n",
            "    Uninstalling xgboost-0.90:\n",
            "      Successfully uninstalled xgboost-0.90\n",
            "Successfully installed deap-1.3.1 stopit-1.1.2 tpot-0.11.7 update-checker-0.18.0 xgboost-1.4.2\n"
          ],
          "name": "stdout"
        }
      ]
    },
    {
      "cell_type": "markdown",
      "metadata": {
        "id": "ZjiOHsrJEdRr"
      },
      "source": [
        "Model"
      ]
    },
    {
      "cell_type": "code",
      "metadata": {
        "id": "q4lZe2V5s1F8"
      },
      "source": [
        "from sklearn.model_selection import train_test_split\n",
        "x=df.drop(['Condition','Age_0-9', 'Age_10-19',\n",
        "       'Age_20-24', 'Age_25-59', 'Age_60+', 'Gender_Female', 'Gender_Male',\n",
        "       'Gender_Transgender', 'Contact_Dont-Know', 'Contact_No', 'Contact_Yes','Symptoms_Score','None_Sympton', 'Pains','None_Experiencing'],axis=1)\n",
        "y=df['Condition']\n",
        "\n",
        "x_train, x_test, y_train, y_test = train_test_split(x,y , test_size =0.2)"
      ],
      "execution_count": null,
      "outputs": []
    },
    {
      "cell_type": "code",
      "metadata": {
        "colab": {
          "base_uri": "https://localhost:8080/",
          "height": 340,
          "referenced_widgets": [
            "35937d77f6ee4b2ea3d34e8dc2ac40b2",
            "a0063996a8004471beafc8685b3b2429",
            "4fd8d3db6d854a368972f950169cfb66",
            "91b2ad1dddae4567b55b672ad92c5d61",
            "9165face70394959ab0b4bd9c219d075",
            "776016a9200a412186f161c4f01cdf5d",
            "adfb607da7d6440594350defaecd55d1",
            "c86c345b84064ae89a8e7a751f16c301"
          ]
        },
        "id": "kmIOIHJmsR_n",
        "outputId": "efd6fa9a-4598-407d-c9fe-323e480f28ff"
      },
      "source": [
        "from tpot import TPOTClassifier\n",
        "\n",
        "\n",
        "tpot_classifier = TPOTClassifier(generations= 5, population_size= 50,\n",
        "                                 verbosity= 2,\n",
        "                                 n_jobs = -1 , random_state = 1 , early_stop = 12,\n",
        "                                 cv = 5, scoring = 'accuracy')\n",
        "tpot_classifier.fit(x_train,y_train)"
      ],
      "execution_count": null,
      "outputs": [
        {
          "output_type": "display_data",
          "data": {
            "application/vnd.jupyter.widget-view+json": {
              "model_id": "35937d77f6ee4b2ea3d34e8dc2ac40b2",
              "version_minor": 0,
              "version_major": 2
            },
            "text/plain": [
              "HBox(children=(FloatProgress(value=0.0, description='Optimization Progress', max=300.0, style=ProgressStyle(de…"
            ]
          },
          "metadata": {
            "tags": []
          }
        },
        {
          "output_type": "stream",
          "text": [
            "\r\n",
            "Generation 1 - Current best internal CV score: 0.7508128156565657\n",
            "\n",
            "Generation 2 - Current best internal CV score: 0.7508128156565657\n",
            "\n",
            "Generation 3 - Current best internal CV score: 0.7508128156565657\n",
            "\n",
            "Generation 4 - Current best internal CV score: 0.7508128156565657\n",
            "\n",
            "Generation 5 - Current best internal CV score: 0.7508128156565657\n",
            "\n",
            "Best pipeline: BernoulliNB(input_matrix, alpha=0.1, fit_prior=True)\n"
          ],
          "name": "stdout"
        },
        {
          "output_type": "execute_result",
          "data": {
            "text/plain": [
              "TPOTClassifier(config_dict=None, crossover_rate=0.1, cv=5,\n",
              "               disable_update_check=False, early_stop=12, generations=5,\n",
              "               log_file=None, max_eval_time_mins=5, max_time_mins=None,\n",
              "               memory=None, mutation_rate=0.9, n_jobs=-1, offspring_size=None,\n",
              "               periodic_checkpoint_folder=None, population_size=50,\n",
              "               random_state=1, scoring='accuracy', subsample=1.0, template=None,\n",
              "               use_dask=False, verbosity=2, warm_start=False)"
            ]
          },
          "metadata": {
            "tags": []
          },
          "execution_count": 47
        }
      ]
    },
    {
      "cell_type": "code",
      "metadata": {
        "colab": {
          "base_uri": "https://localhost:8080/"
        },
        "id": "PXmCWrLz5wqg",
        "outputId": "f67dd2ce-5574-45ca-9c43-2362a9fec7b6"
      },
      "source": [
        "accuracy = tpot_classifier.score(x_test,y_test)\n",
        "print(accuracy)"
      ],
      "execution_count": null,
      "outputs": [
        {
          "output_type": "stream",
          "text": [
            "0.7467487373737374\n"
          ],
          "name": "stdout"
        }
      ]
    },
    {
      "cell_type": "code",
      "metadata": {
        "id": "rk1hTccDE1R9"
      },
      "source": [
        "tpot_classifier.export('optimal_pipeline.py')"
      ],
      "execution_count": null,
      "outputs": []
    },
    {
      "cell_type": "code",
      "metadata": {
        "id": "nR17SodwK72M"
      },
      "source": [
        "def pipeline_suggested(df):\n",
        "\n",
        "  exported_pipeline = BernoulliNB(alpha=0.1, fit_prior=True)\n",
        "# Fix random state in exported estimator\n",
        "  if hasattr(exported_pipeline, 'random_state'):\n",
        "      setattr(exported_pipeline, 'random_state', 1)\n",
        " \n",
        "\n",
        "  exported_pipeline.fit(x_train, y_train)\n",
        "  print(f\"Train acc: {exported_pipeline.score(x_train, y_train)}\")\n",
        "  print(f\"Test acc: {exported_pipeline.score(x_test, y_test)}\")\n",
        "\n"
      ],
      "execution_count": null,
      "outputs": []
    },
    {
      "cell_type": "code",
      "metadata": {
        "colab": {
          "base_uri": "https://localhost:8080/"
        },
        "id": "ykeOVZKkMq1H",
        "outputId": "204a4e95-b9a4-4c6c-c5f7-01398e398669"
      },
      "source": [
        "\n",
        "    # Copied from optimal pipeline suggested by tpot in file \"optimal_pipeline.py\"\n",
        "    # Initialize \n",
        "#exported_pipeline = make_pipeline(\n",
        "    \n",
        "    \n",
        "    \n",
        "    #PolynomialFeatures(degree=2, include_bias=False, interaction_only=False),\n",
        "    #VarianceThreshold(threshold=0.2),\n",
        "    #ZeroCount(),\n",
        "    #GradientBoostingClassifier(learning_rate=1.0, max_depth=10, max_features=0.9000000000000001, min_samples_leaf=16, min_samples_split=3, n_estimators=100, subsample=0.7000000000000001)\n",
        "    #)\n",
        "    # Init training\n",
        "from sklearn.naive_bayes import BernoulliNB\n",
        "exported_pipeline = BernoulliNB(alpha=0.1, fit_prior=True)\n",
        "exported_pipeline.fit(x_train, y_train)\n",
        "print(f\"Train acc: {exported_pipeline.score(x_train, y_train)}\")\n",
        "print(f\"Test acc: {exported_pipeline.score(x_test, y_test)}\")\n",
        "   "
      ],
      "execution_count": null,
      "outputs": [
        {
          "output_type": "stream",
          "text": [
            "Train acc: 0.7508128156565657\n",
            "Test acc: 0.7467487373737374\n"
          ],
          "name": "stdout"
        }
      ]
    },
    {
      "cell_type": "code",
      "metadata": {
        "id": "UecgdoJGNyZm"
      },
      "source": [
        " "
      ],
      "execution_count": null,
      "outputs": []
    },
    {
      "cell_type": "code",
      "metadata": {
        "id": "6rsFcnhDNonx"
      },
      "source": [
        ""
      ],
      "execution_count": null,
      "outputs": []
    }
  ]
}